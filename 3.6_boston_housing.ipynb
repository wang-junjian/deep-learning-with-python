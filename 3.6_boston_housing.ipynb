{
 "cells": [
  {
   "cell_type": "markdown",
   "metadata": {},
   "source": [
    "# 波士顿房价预测"
   ]
  },
  {
   "cell_type": "code",
   "execution_count": 4,
   "metadata": {},
   "outputs": [
    {
     "name": "stderr",
     "output_type": "stream",
     "text": [
      "Using TensorFlow backend.\n"
     ]
    }
   ],
   "source": [
    "from keras.datasets import boston_housing\n",
    "from keras import layers\n",
    "from keras import models"
   ]
  },
  {
   "cell_type": "code",
   "execution_count": 16,
   "metadata": {},
   "outputs": [
    {
     "name": "stdout",
     "output_type": "stream",
     "text": [
      "(404, 13) [  1.23247   0.        8.14      0.        0.538     6.142    91.7\n",
      "   3.9769    4.      307.       21.      396.9      18.72   ]\n",
      "(404,) [15.2 42.3 50.  21.1 17.7 18.5 11.3 15.6 15.6 14.4 12.1 17.9 23.1]\n"
     ]
    }
   ],
   "source": [
    "(train_data, train_targets), (test_data, test_targets) = boston_housing.load_data()\n",
    "print(train_data.shape, train_data[0])\n",
    "print(train_targets.shape, train_targets[:13])"
   ]
  },
  {
   "cell_type": "markdown",
   "metadata": {},
   "source": [
    "## 数据标准化"
   ]
  },
  {
   "cell_type": "code",
   "execution_count": 17,
   "metadata": {},
   "outputs": [
    {
     "name": "stdout",
     "output_type": "stream",
     "text": [
      "mean: [3.74511057e+00 1.14801980e+01 1.11044307e+01 6.18811881e-02\n",
      " 5.57355941e-01 6.26708168e+00 6.90106436e+01 3.74027079e+00\n",
      " 9.44059406e+00 4.05898515e+02 1.84759901e+01 3.54783168e+02\n",
      " 1.27408168e+01]\n",
      "std: [9.22929073e+00 2.37382770e+01 6.80287253e+00 2.40939633e-01\n",
      " 1.17147847e-01 7.08908627e-01 2.79060634e+01 2.02770050e+00\n",
      " 8.68758849e+00 1.66168506e+02 2.19765689e+00 9.39946015e+01\n",
      " 7.24556085e+00]\n"
     ]
    }
   ],
   "source": [
    "mean = train_data.mean(axis=0)\n",
    "std = train_data.std(axis=0)\n",
    "print('mean:', mean)\n",
    "print('std:', std)\n",
    "\n",
    "train_data -= mean\n",
    "train_data /= std\n",
    "\n",
    "test_data -= mean\n",
    "test_data /= std"
   ]
  },
  {
   "cell_type": "markdown",
   "metadata": {},
   "source": [
    "## 构建网络"
   ]
  },
  {
   "cell_type": "code",
   "execution_count": 18,
   "metadata": {},
   "outputs": [],
   "source": [
    "model = models.Sequential()\n",
    "model.add(layers.Dense(64, activation='relu', input_shape=(train_data.shape[1],)))\n",
    "model.add(layers.Dense(64, activation='relu'))\n",
    "model.add(layers.Dense(1))\n",
    "model.compile(optimizer='rmsprop', loss='mse', metrics=['mae'])"
   ]
  },
  {
   "cell_type": "code",
   "execution_count": 25,
   "metadata": {},
   "outputs": [
    {
     "name": "stdout",
     "output_type": "stream",
     "text": [
      "Epoch 1/50\n",
      "102/102 [==============================] - 0s 481us/step - loss: 7.5350 - mean_absolute_error: 2.1291\n",
      "Epoch 2/50\n",
      "102/102 [==============================] - 0s 117us/step - loss: 7.2591 - mean_absolute_error: 2.0947\n",
      "Epoch 3/50\n",
      "102/102 [==============================] - 0s 104us/step - loss: 7.3494 - mean_absolute_error: 2.0768\n",
      "Epoch 4/50\n",
      "102/102 [==============================] - 0s 109us/step - loss: 7.3459 - mean_absolute_error: 2.0726\n",
      "Epoch 5/50\n",
      "102/102 [==============================] - 0s 152us/step - loss: 7.8010 - mean_absolute_error: 2.1470\n",
      "Epoch 6/50\n",
      "102/102 [==============================] - 0s 159us/step - loss: 6.9954 - mean_absolute_error: 2.0357\n",
      "Epoch 7/50\n",
      "102/102 [==============================] - 0s 152us/step - loss: 7.1719 - mean_absolute_error: 2.0404\n",
      "Epoch 8/50\n",
      "102/102 [==============================] - 0s 110us/step - loss: 7.0856 - mean_absolute_error: 2.0047\n",
      "Epoch 9/50\n",
      "102/102 [==============================] - 0s 96us/step - loss: 7.3036 - mean_absolute_error: 2.0680\n",
      "Epoch 10/50\n",
      "102/102 [==============================] - 0s 113us/step - loss: 7.0834 - mean_absolute_error: 2.0513\n",
      "Epoch 11/50\n",
      "102/102 [==============================] - 0s 104us/step - loss: 7.1952 - mean_absolute_error: 2.0518\n",
      "Epoch 12/50\n",
      "102/102 [==============================] - 0s 104us/step - loss: 6.9391 - mean_absolute_error: 2.0167\n",
      "Epoch 13/50\n",
      "102/102 [==============================] - 0s 110us/step - loss: 6.7513 - mean_absolute_error: 1.9892\n",
      "Epoch 14/50\n",
      "102/102 [==============================] - 0s 105us/step - loss: 6.7552 - mean_absolute_error: 1.9993\n",
      "Epoch 15/50\n",
      "102/102 [==============================] - 0s 92us/step - loss: 6.6070 - mean_absolute_error: 1.9678\n",
      "Epoch 16/50\n",
      "102/102 [==============================] - 0s 102us/step - loss: 6.8062 - mean_absolute_error: 1.9792\n",
      "Epoch 17/50\n",
      "102/102 [==============================] - 0s 120us/step - loss: 6.5955 - mean_absolute_error: 1.9478\n",
      "Epoch 18/50\n",
      "102/102 [==============================] - 0s 113us/step - loss: 6.5877 - mean_absolute_error: 1.9570\n",
      "Epoch 19/50\n",
      "102/102 [==============================] - 0s 90us/step - loss: 6.5625 - mean_absolute_error: 1.9579\n",
      "Epoch 20/50\n",
      "102/102 [==============================] - 0s 124us/step - loss: 6.7976 - mean_absolute_error: 2.0066\n",
      "Epoch 21/50\n",
      "102/102 [==============================] - 0s 140us/step - loss: 6.5159 - mean_absolute_error: 1.9444\n",
      "Epoch 22/50\n",
      "102/102 [==============================] - 0s 107us/step - loss: 6.3723 - mean_absolute_error: 1.9301\n",
      "Epoch 23/50\n",
      "102/102 [==============================] - 0s 107us/step - loss: 6.3457 - mean_absolute_error: 1.9147\n",
      "Epoch 24/50\n",
      "102/102 [==============================] - 0s 108us/step - loss: 6.5690 - mean_absolute_error: 1.9609\n",
      "Epoch 25/50\n",
      "102/102 [==============================] - 0s 103us/step - loss: 6.3284 - mean_absolute_error: 1.8687\n",
      "Epoch 26/50\n",
      "102/102 [==============================] - 0s 122us/step - loss: 6.2598 - mean_absolute_error: 1.8849\n",
      "Epoch 27/50\n",
      "102/102 [==============================] - 0s 96us/step - loss: 6.5416 - mean_absolute_error: 1.9304\n",
      "Epoch 28/50\n",
      "102/102 [==============================] - 0s 125us/step - loss: 6.4109 - mean_absolute_error: 1.9472\n",
      "Epoch 29/50\n",
      "102/102 [==============================] - 0s 135us/step - loss: 5.9953 - mean_absolute_error: 1.8804\n",
      "Epoch 30/50\n",
      "102/102 [==============================] - 0s 112us/step - loss: 5.9221 - mean_absolute_error: 1.8581\n",
      "Epoch 31/50\n",
      "102/102 [==============================] - 0s 97us/step - loss: 6.0615 - mean_absolute_error: 1.8280\n",
      "Epoch 32/50\n",
      "102/102 [==============================] - 0s 105us/step - loss: 6.0478 - mean_absolute_error: 1.8411\n",
      "Epoch 33/50\n",
      "102/102 [==============================] - 0s 116us/step - loss: 6.0576 - mean_absolute_error: 1.8483\n",
      "Epoch 34/50\n",
      "102/102 [==============================] - 0s 107us/step - loss: 5.9124 - mean_absolute_error: 1.8232\n",
      "Epoch 35/50\n",
      "102/102 [==============================] - 0s 108us/step - loss: 5.9157 - mean_absolute_error: 1.8071\n",
      "Epoch 36/50\n",
      "102/102 [==============================] - 0s 112us/step - loss: 5.8765 - mean_absolute_error: 1.8001\n",
      "Epoch 37/50\n",
      "102/102 [==============================] - 0s 127us/step - loss: 6.1804 - mean_absolute_error: 1.8996\n",
      "Epoch 38/50\n",
      "102/102 [==============================] - 0s 108us/step - loss: 5.8907 - mean_absolute_error: 1.8366\n",
      "Epoch 39/50\n",
      "102/102 [==============================] - 0s 97us/step - loss: 5.9053 - mean_absolute_error: 1.8063\n",
      "Epoch 40/50\n",
      "102/102 [==============================] - 0s 100us/step - loss: 5.6462 - mean_absolute_error: 1.7946\n",
      "Epoch 41/50\n",
      "102/102 [==============================] - 0s 108us/step - loss: 5.6785 - mean_absolute_error: 1.7782\n",
      "Epoch 42/50\n",
      "102/102 [==============================] - 0s 97us/step - loss: 5.8804 - mean_absolute_error: 1.8058\n",
      "Epoch 43/50\n",
      "102/102 [==============================] - 0s 110us/step - loss: 5.4541 - mean_absolute_error: 1.7563\n",
      "Epoch 44/50\n",
      "102/102 [==============================] - 0s 114us/step - loss: 5.7654 - mean_absolute_error: 1.8177\n",
      "Epoch 45/50\n",
      "102/102 [==============================] - 0s 107us/step - loss: 5.6233 - mean_absolute_error: 1.7825\n",
      "Epoch 46/50\n",
      "102/102 [==============================] - 0s 105us/step - loss: 5.3419 - mean_absolute_error: 1.7604\n",
      "Epoch 47/50\n",
      "102/102 [==============================] - 0s 110us/step - loss: 5.4014 - mean_absolute_error: 1.7369\n",
      "Epoch 48/50\n",
      "102/102 [==============================] - 0s 112us/step - loss: 5.3414 - mean_absolute_error: 1.7222\n",
      "Epoch 49/50\n",
      "102/102 [==============================] - 0s 102us/step - loss: 5.4775 - mean_absolute_error: 1.7635\n",
      "Epoch 50/50\n",
      "102/102 [==============================] - 0s 105us/step - loss: 5.3189 - mean_absolute_error: 1.7330\n",
      "{'loss': [7.534958127666922, 7.259115593690498, 7.349420568376195, 7.345933858086081, 7.801049578423593, 6.9954004334468465, 7.171930013918409, 7.085563640968473, 7.303581817477357, 7.083386168760412, 7.195245195837582, 6.939085782742968, 6.751293514289108, 6.755154525532442, 6.606989840666453, 6.806243073706534, 6.595465987336402, 6.587687095006307, 6.562505104962518, 6.7975724538167315, 6.515887529242272, 6.372292878581028, 6.34572530260273, 6.568969838759479, 6.328350996269899, 6.2597749326743335, 6.541622591953652, 6.410922008402207, 5.99527946172976, 5.922125666749244, 6.061537032033883, 6.047813649271049, 6.057558321485333, 5.912355712815827, 5.915740971471749, 5.876485665639241, 6.18040075489119, 5.890701499639773, 5.905345580157111, 5.6461662147559375, 5.678462081680111, 5.880385398864746, 5.45408322764378, 5.765385983037014, 5.623276892830344, 5.341884473959605, 5.40144963241091, 5.341359475079705, 5.477456602395749, 5.31894692252664], 'mean_absolute_error': [2.1291454025343355, 2.0946779812083527, 2.0767609325109744, 2.0726079333062266, 2.1469839367212034, 2.035694594476737, 2.0404172504649445, 2.0046898991453883, 2.0680311380648146, 2.0512748746310963, 2.05184528874416, 2.016694391475004, 1.9891964734769334, 1.9993100914300657, 1.9677962228363635, 1.9792376359303792, 1.9477931471431957, 1.9570191140268363, 1.9578892623676973, 2.0065794365078795, 1.9444265131856882, 1.9300502702301623, 1.9146889004052854, 1.9609174775142295, 1.8686683084450515, 1.8848795049330767, 1.9304018020629883, 1.9471574016645843, 1.8804461208044314, 1.858147139642753, 1.8280110966925527, 1.8411218652538224, 1.8483393379286224, 1.823174238204956, 1.8070880899242325, 1.800134771010455, 1.8995549819048714, 1.8366109950869691, 1.8062558033887077, 1.7945642471313477, 1.7781750922109567, 1.805786464728561, 1.7562872568766277, 1.8176659602744907, 1.7824630223068536, 1.760449675952687, 1.7369270558450736, 1.7221651030521767, 1.7634993487713384, 1.73303614878187]}\n"
     ]
    }
   ],
   "source": [
    "history = model.fit(test_data, test_targets, epochs=50, batch_size=20)\n",
    "print(history.history)"
   ]
  },
  {
   "cell_type": "code",
   "execution_count": 26,
   "metadata": {},
   "outputs": [
    {
     "name": "stdout",
     "output_type": "stream",
     "text": [
      "102/102 [==============================] - 0s 48us/step\n"
     ]
    },
    {
     "data": {
      "text/plain": [
       "[5.407040596008301, 1.7394323302250283]"
      ]
     },
     "execution_count": 26,
     "metadata": {},
     "output_type": "execute_result"
    }
   ],
   "source": [
    "model.evaluate(test_data, test_targets)"
   ]
  },
  {
   "cell_type": "code",
   "execution_count": 27,
   "metadata": {},
   "outputs": [
    {
     "data": {
      "text/plain": [
       "array([[ 7.4972486],\n",
       "       [19.036987 ],\n",
       "       [21.92217  ],\n",
       "       [30.015196 ],\n",
       "       [25.699911 ],\n",
       "       [22.618343 ],\n",
       "       [27.802773 ],\n",
       "       [21.468193 ],\n",
       "       [19.95924  ],\n",
       "       [21.856903 ]], dtype=float32)"
      ]
     },
     "execution_count": 27,
     "metadata": {},
     "output_type": "execute_result"
    }
   ],
   "source": [
    "model.predict(test_data[:10])"
   ]
  },
  {
   "cell_type": "markdown",
   "metadata": {},
   "source": [
    "## 编写生成网络的函数"
   ]
  },
  {
   "cell_type": "code",
   "execution_count": 29,
   "metadata": {},
   "outputs": [],
   "source": [
    "def build_model():\n",
    "    model = models.Sequential()\n",
    "    model.add(layers.Dense(64, activation='relu', input_shape=(train_data.shape[1],)))\n",
    "    model.add(layers.Dense(64, activation='relu'))\n",
    "    model.add(layers.Dense(1))\n",
    "    model.compile(optimizer='rmsprop', loss='mse', metrics=['mae'])\n",
    "    return model"
   ]
  },
  {
   "cell_type": "markdown",
   "metadata": {},
   "source": [
    "## K折验证"
   ]
  },
  {
   "cell_type": "code",
   "execution_count": 47,
   "metadata": {},
   "outputs": [
    {
     "name": "stdout",
     "output_type": "stream",
     "text": [
      "processing fold # 0\n",
      "101/101 [==============================] - 0s 478us/step\n",
      "processing fold # 1\n",
      "101/101 [==============================] - 0s 539us/step\n",
      "processing fold # 2\n",
      "101/101 [==============================] - 0s 590us/step\n",
      "processing fold # 3\n",
      "101/101 [==============================] - 0s 752us/step\n",
      "[2.2301889386507545, 2.911705732345581, 2.549024322245381, 2.4523563585659063] 2.5358188379519055\n"
     ]
    }
   ],
   "source": [
    "import numpy as np\n",
    "\n",
    "k = 4\n",
    "num_val_samples = len(train_data) // k #//取整运算符\n",
    "num_epochs = num_val_samples\n",
    "maes = []\n",
    "\n",
    "for i in range(k):\n",
    "    print('processing fold #', i)\n",
    "\n",
    "    val_data = train_data[i*num_val_samples: (i+1)*num_val_samples]\n",
    "    val_targets = train_targets[i*num_val_samples: (i+1)*num_val_samples]\n",
    "    \n",
    "    partial_train_data = np.concatenate([train_data[:i*num_val_samples], \n",
    "                                        train_data[(i+1)*num_val_samples:]],\n",
    "                                        axis=0)\n",
    "    partial_train_targets = np.concatenate([train_targets[:i*num_val_samples], \n",
    "                                           train_targets[(i+1)*num_val_samples:]],\n",
    "                                           axis=0)\n",
    "    \n",
    "    model = build_model()\n",
    "    model.fit(partial_train_data, partial_train_targets, \n",
    "              epochs=num_epochs, batch_size=1, verbose=0)\n",
    "    \n",
    "    val_mse, val_mae = model.evaluate(val_data, val_targets)\n",
    "    maes.append(val_mae)\n",
    "    \n",
    "mae = np.mean(maes)\n",
    "print(maes, mae)"
   ]
  },
  {
   "cell_type": "markdown",
   "metadata": {},
   "source": [
    "## epochs = 500"
   ]
  },
  {
   "cell_type": "code",
   "execution_count": 49,
   "metadata": {},
   "outputs": [
    {
     "name": "stdout",
     "output_type": "stream",
     "text": [
      "processing fold # 0\n",
      "dict_keys(['val_loss', 'val_mean_absolute_error', 'loss', 'mean_absolute_error'])\n",
      "processing fold # 1\n",
      "dict_keys(['val_loss', 'val_mean_absolute_error', 'loss', 'mean_absolute_error'])\n",
      "processing fold # 2\n",
      "dict_keys(['val_loss', 'val_mean_absolute_error', 'loss', 'mean_absolute_error'])\n",
      "processing fold # 3\n",
      "dict_keys(['val_loss', 'val_mean_absolute_error', 'loss', 'mean_absolute_error'])\n"
     ]
    }
   ],
   "source": [
    "import numpy as np\n",
    "\n",
    "k = 4\n",
    "num_val_samples = len(train_data) // k #//取整运算符\n",
    "num_epochs = 500\n",
    "mae_histories = []\n",
    "\n",
    "for i in range(k):\n",
    "    print('processing fold #', i)\n",
    "\n",
    "    val_data = train_data[i*num_val_samples: (i+1)*num_val_samples]\n",
    "    val_targets = train_targets[i*num_val_samples: (i+1)*num_val_samples]\n",
    "    \n",
    "    partial_train_data = np.concatenate([train_data[:i*num_val_samples], \n",
    "                                        train_data[(i+1)*num_val_samples:]],\n",
    "                                        axis=0)\n",
    "    partial_train_targets = np.concatenate([train_targets[:i*num_val_samples], \n",
    "                                           train_targets[(i+1)*num_val_samples:]],\n",
    "                                           axis=0)\n",
    "    \n",
    "    model = build_model()\n",
    "    history = model.fit(partial_train_data, partial_train_targets, \n",
    "                        validation_data=(val_data, val_targets),\n",
    "                        epochs=num_epochs, batch_size=1, verbose=0)\n",
    "    \n",
    "    print(history.history.keys())\n",
    "    mae_histories.append(history.history['val_mean_absolute_error'])"
   ]
  },
  {
   "cell_type": "code",
   "execution_count": 73,
   "metadata": {},
   "outputs": [
    {
     "name": "stdout",
     "output_type": "stream",
     "text": [
      "4 500\n",
      "500 [4.572459154789991, 3.484032404304731, 3.0523584927662766, 2.8337494028676855, 2.7011462733297065]\n"
     ]
    }
   ],
   "source": [
    "#计算每轮K折的平均值\n",
    "print(len(mae_histories), len(mae_histories[0]))\n",
    "avg_mae_history = [np.mean([n[i] for n in mae_histories]) for i in range(num_epochs)]\n",
    "print(len(avg_mae_history), avg_mae_history[:5])"
   ]
  },
  {
   "cell_type": "code",
   "execution_count": 77,
   "metadata": {},
   "outputs": [
    {
     "data": {
      "image/png": "[encoded data removed]",
      "text/plain": [
       "<matplotlib.figure.Figure at 0x1246a8b70>"
      ]
     },
     "metadata": {},
     "output_type": "display_data"
    }
   ],
   "source": [
    "import matplotlib.pyplot as plt\n",
    "\n",
    "plt.plot(range(1, len(avg_mae_history)+1), avg_mae_history)\n",
    "plt.xlabel('Epochs')\n",
    "plt.ylabel('Validation MAE')\n",
    "plt.show()"
   ]
  },
  {
   "cell_type": "code",
   "execution_count": 84,
   "metadata": {},
   "outputs": [
    {
     "data": {
      "image/png": "[encoded data removed]",
      "text/plain": [
       "<matplotlib.figure.Figure at 0x125d8bb38>"
      ]
     },
     "metadata": {},
     "output_type": "display_data"
    }
   ],
   "source": [
    "#把前面10个异常值移除\n",
    "after_avg_mae_history_10 = avg_mae_history[10:]\n",
    "plt.plot(range(1, len(after_avg_mae_history_10)+1), after_avg_mae_history_10)\n",
    "plt.xlabel('Epochs')\n",
    "plt.ylabel('Validation MAE')\n",
    "plt.show()"
   ]
  },
  {
   "cell_type": "markdown",
   "metadata": {},
   "source": [
    "## 通过指数移动平均值，以得到光滑的曲线。"
   ]
  },
  {
   "cell_type": "code",
   "execution_count": 86,
   "metadata": {},
   "outputs": [
    {
     "data": {
      "image/png": "[encoded data removed]",
      "text/plain": [
       "<matplotlib.figure.Figure at 0x125942d68>"
      ]
     },
     "metadata": {},
     "output_type": "display_data"
    }
   ],
   "source": [
    "def smooth_curve(points, factor=0.9):\n",
    "    smoothed_points = []\n",
    "    for point in points:\n",
    "        if smoothed_points:\n",
    "            previous_point = smoothed_points[-1]\n",
    "            smoothed_points.append(previous_point * factor + point * (1-factor))\n",
    "        else:\n",
    "            smoothed_points.append(point)\n",
    "    return smoothed_points\n",
    "\n",
    "smooth_mae_history = smooth_curve(avg_mae_history[10:])\n",
    "\n",
    "plt.plot(range(1, len(smooth_mae_history)+1), smooth_mae_history)\n",
    "plt.xlabel('Epochs')\n",
    "plt.ylabel('Smooth Validation MAE')\n",
    "plt.show()"
   ]
  },
  {
   "cell_type": "markdown",
   "metadata": {},
   "source": [
    "## 训练最终模型"
   ]
  },
  {
   "cell_type": "code",
   "execution_count": 88,
   "metadata": {},
   "outputs": [
    {
     "name": "stdout",
     "output_type": "stream",
     "text": [
      "Epoch 1/80\n",
      "404/404 [==============================] - 0s 1ms/step - loss: 499.3758 - mean_absolute_error: 20.5589\n",
      "Epoch 2/80\n",
      "404/404 [==============================] - 0s 92us/step - loss: 320.9097 - mean_absolute_error: 15.9049\n",
      "Epoch 3/80\n",
      "404/404 [==============================] - 0s 93us/step - loss: 157.2370 - mean_absolute_error: 10.2177\n",
      "Epoch 4/80\n",
      "404/404 [==============================] - 0s 98us/step - loss: 71.6150 - mean_absolute_error: 6.4269\n",
      "Epoch 5/80\n",
      "404/404 [==============================] - 0s 92us/step - loss: 42.0901 - mean_absolute_error: 4.7804\n",
      "Epoch 6/80\n",
      "404/404 [==============================] - 0s 94us/step - loss: 29.0782 - mean_absolute_error: 3.8404\n",
      "Epoch 7/80\n",
      "404/404 [==============================] - 0s 98us/step - loss: 24.5099 - mean_absolute_error: 3.4223\n",
      "Epoch 8/80\n",
      "404/404 [==============================] - 0s 92us/step - loss: 21.5219 - mean_absolute_error: 3.2005\n",
      "Epoch 9/80\n",
      "404/404 [==============================] - 0s 92us/step - loss: 19.5780 - mean_absolute_error: 3.0365\n",
      "Epoch 10/80\n",
      "404/404 [==============================] - 0s 91us/step - loss: 17.6166 - mean_absolute_error: 2.8962\n",
      "Epoch 11/80\n",
      "404/404 [==============================] - 0s 92us/step - loss: 16.1164 - mean_absolute_error: 2.7644\n",
      "Epoch 12/80\n",
      "404/404 [==============================] - 0s 93us/step - loss: 14.7311 - mean_absolute_error: 2.6623\n",
      "Epoch 13/80\n",
      "404/404 [==============================] - 0s 92us/step - loss: 13.8815 - mean_absolute_error: 2.5795\n",
      "Epoch 14/80\n",
      "404/404 [==============================] - 0s 91us/step - loss: 13.2856 - mean_absolute_error: 2.5392\n",
      "Epoch 15/80\n",
      "404/404 [==============================] - 0s 91us/step - loss: 12.5185 - mean_absolute_error: 2.4730\n",
      "Epoch 16/80\n",
      "404/404 [==============================] - 0s 95us/step - loss: 12.0256 - mean_absolute_error: 2.4372\n",
      "Epoch 17/80\n",
      "404/404 [==============================] - 0s 96us/step - loss: 11.5822 - mean_absolute_error: 2.4052\n",
      "Epoch 18/80\n",
      "404/404 [==============================] - 0s 92us/step - loss: 11.3450 - mean_absolute_error: 2.3379\n",
      "Epoch 19/80\n",
      "404/404 [==============================] - 0s 89us/step - loss: 10.8513 - mean_absolute_error: 2.3268\n",
      "Epoch 20/80\n",
      "404/404 [==============================] - 0s 102us/step - loss: 10.6306 - mean_absolute_error: 2.2810\n",
      "Epoch 21/80\n",
      "404/404 [==============================] - 0s 132us/step - loss: 10.2861 - mean_absolute_error: 2.3008\n",
      "Epoch 22/80\n",
      "404/404 [==============================] - 0s 130us/step - loss: 10.3554 - mean_absolute_error: 2.2385\n",
      "Epoch 23/80\n",
      "404/404 [==============================] - 0s 133us/step - loss: 9.9522 - mean_absolute_error: 2.2291\n",
      "Epoch 24/80\n",
      "404/404 [==============================] - 0s 142us/step - loss: 9.9990 - mean_absolute_error: 2.2042\n",
      "Epoch 25/80\n",
      "404/404 [==============================] - 0s 134us/step - loss: 9.6716 - mean_absolute_error: 2.1753\n",
      "Epoch 26/80\n",
      "404/404 [==============================] - 0s 148us/step - loss: 9.5524 - mean_absolute_error: 2.1662\n",
      "Epoch 27/80\n",
      "404/404 [==============================] - 0s 140us/step - loss: 9.4744 - mean_absolute_error: 2.1743\n",
      "Epoch 28/80\n",
      "404/404 [==============================] - 0s 128us/step - loss: 9.2549 - mean_absolute_error: 2.1443\n",
      "Epoch 29/80\n",
      "404/404 [==============================] - 0s 123us/step - loss: 9.2209 - mean_absolute_error: 2.1120\n",
      "Epoch 30/80\n",
      "404/404 [==============================] - 0s 126us/step - loss: 9.2202 - mean_absolute_error: 2.1514\n",
      "Epoch 31/80\n",
      "404/404 [==============================] - 0s 129us/step - loss: 8.9293 - mean_absolute_error: 2.0862\n",
      "Epoch 32/80\n",
      "404/404 [==============================] - 0s 123us/step - loss: 8.9354 - mean_absolute_error: 2.0730\n",
      "Epoch 33/80\n",
      "404/404 [==============================] - 0s 120us/step - loss: 8.9399 - mean_absolute_error: 2.1004\n",
      "Epoch 34/80\n",
      "404/404 [==============================] - 0s 160us/step - loss: 8.5882 - mean_absolute_error: 2.0488\n",
      "Epoch 35/80\n",
      "404/404 [==============================] - 0s 118us/step - loss: 8.8155 - mean_absolute_error: 2.0549\n",
      "Epoch 36/80\n",
      "404/404 [==============================] - 0s 119us/step - loss: 8.6341 - mean_absolute_error: 2.0492\n",
      "Epoch 37/80\n",
      "404/404 [==============================] - 0s 102us/step - loss: 8.3802 - mean_absolute_error: 2.0087\n",
      "Epoch 38/80\n",
      "404/404 [==============================] - 0s 99us/step - loss: 8.4611 - mean_absolute_error: 2.0310\n",
      "Epoch 39/80\n",
      "404/404 [==============================] - 0s 98us/step - loss: 8.2666 - mean_absolute_error: 1.9893\n",
      "Epoch 40/80\n",
      "404/404 [==============================] - 0s 95us/step - loss: 8.3066 - mean_absolute_error: 2.0090\n",
      "Epoch 41/80\n",
      "404/404 [==============================] - 0s 99us/step - loss: 8.1648 - mean_absolute_error: 1.9809\n",
      "Epoch 42/80\n",
      "404/404 [==============================] - 0s 103us/step - loss: 8.0315 - mean_absolute_error: 2.0051\n",
      "Epoch 43/80\n",
      "404/404 [==============================] - 0s 96us/step - loss: 8.0694 - mean_absolute_error: 1.9532\n",
      "Epoch 44/80\n",
      "404/404 [==============================] - 0s 100us/step - loss: 7.9325 - mean_absolute_error: 1.9122\n",
      "Epoch 45/80\n",
      "404/404 [==============================] - 0s 94us/step - loss: 7.9967 - mean_absolute_error: 1.9690\n",
      "Epoch 46/80\n",
      "404/404 [==============================] - 0s 93us/step - loss: 7.9019 - mean_absolute_error: 1.9546\n",
      "Epoch 47/80\n",
      "404/404 [==============================] - 0s 102us/step - loss: 7.6539 - mean_absolute_error: 1.9235\n",
      "Epoch 48/80\n",
      "404/404 [==============================] - 0s 101us/step - loss: 7.7925 - mean_absolute_error: 1.9546\n",
      "Epoch 49/80\n",
      "404/404 [==============================] - 0s 116us/step - loss: 7.5830 - mean_absolute_error: 1.8856\n",
      "Epoch 50/80\n",
      "404/404 [==============================] - 0s 104us/step - loss: 7.6255 - mean_absolute_error: 1.9616\n",
      "Epoch 51/80\n",
      "404/404 [==============================] - 0s 116us/step - loss: 7.6094 - mean_absolute_error: 1.8857\n",
      "Epoch 52/80\n",
      "404/404 [==============================] - 0s 111us/step - loss: 7.5941 - mean_absolute_error: 1.9319\n",
      "Epoch 53/80\n",
      "404/404 [==============================] - 0s 109us/step - loss: 7.5118 - mean_absolute_error: 1.9029\n",
      "Epoch 54/80\n",
      "404/404 [==============================] - 0s 112us/step - loss: 7.5800 - mean_absolute_error: 1.9252\n",
      "Epoch 55/80\n",
      "404/404 [==============================] - 0s 96us/step - loss: 7.3422 - mean_absolute_error: 1.8630\n",
      "Epoch 56/80\n",
      "404/404 [==============================] - 0s 101us/step - loss: 7.3675 - mean_absolute_error: 1.8875\n",
      "Epoch 57/80\n",
      "404/404 [==============================] - 0s 98us/step - loss: 7.3877 - mean_absolute_error: 1.8761\n",
      "Epoch 58/80\n",
      "404/404 [==============================] - 0s 103us/step - loss: 7.2612 - mean_absolute_error: 1.8791\n",
      "Epoch 59/80\n",
      "404/404 [==============================] - 0s 123us/step - loss: 7.2753 - mean_absolute_error: 1.8835\n",
      "Epoch 60/80\n",
      "404/404 [==============================] - 0s 124us/step - loss: 7.2193 - mean_absolute_error: 1.8554\n",
      "Epoch 61/80\n",
      "404/404 [==============================] - 0s 117us/step - loss: 7.1953 - mean_absolute_error: 1.8371\n",
      "Epoch 62/80\n",
      "404/404 [==============================] - 0s 118us/step - loss: 7.0021 - mean_absolute_error: 1.8438\n",
      "Epoch 63/80\n",
      "404/404 [==============================] - 0s 121us/step - loss: 6.8385 - mean_absolute_error: 1.8240\n",
      "Epoch 64/80\n",
      "404/404 [==============================] - 0s 121us/step - loss: 6.9191 - mean_absolute_error: 1.8435\n",
      "Epoch 65/80\n",
      "404/404 [==============================] - 0s 122us/step - loss: 7.0073 - mean_absolute_error: 1.8325\n",
      "Epoch 66/80\n",
      "404/404 [==============================] - 0s 124us/step - loss: 6.8806 - mean_absolute_error: 1.7888\n",
      "Epoch 67/80\n",
      "404/404 [==============================] - 0s 126us/step - loss: 6.6858 - mean_absolute_error: 1.7866\n",
      "Epoch 68/80\n",
      "404/404 [==============================] - 0s 124us/step - loss: 6.8153 - mean_absolute_error: 1.8314\n",
      "Epoch 69/80\n",
      "404/404 [==============================] - 0s 121us/step - loss: 6.7444 - mean_absolute_error: 1.8083\n",
      "Epoch 70/80\n",
      "404/404 [==============================] - 0s 130us/step - loss: 6.7494 - mean_absolute_error: 1.8202\n",
      "Epoch 71/80\n",
      "404/404 [==============================] - 0s 102us/step - loss: 6.4971 - mean_absolute_error: 1.7825\n",
      "Epoch 72/80\n",
      "404/404 [==============================] - 0s 95us/step - loss: 6.5934 - mean_absolute_error: 1.7994\n"
     ]
    },
    {
     "name": "stdout",
     "output_type": "stream",
     "text": [
      "Epoch 73/80\n",
      "404/404 [==============================] - 0s 91us/step - loss: 6.5081 - mean_absolute_error: 1.7829\n",
      "Epoch 74/80\n",
      "404/404 [==============================] - 0s 103us/step - loss: 6.6042 - mean_absolute_error: 1.8063\n",
      "Epoch 75/80\n",
      "404/404 [==============================] - 0s 120us/step - loss: 6.4488 - mean_absolute_error: 1.7811\n",
      "Epoch 76/80\n",
      "404/404 [==============================] - 0s 127us/step - loss: 6.4747 - mean_absolute_error: 1.7777\n",
      "Epoch 77/80\n",
      "404/404 [==============================] - 0s 131us/step - loss: 6.4173 - mean_absolute_error: 1.8089\n",
      "Epoch 78/80\n",
      "404/404 [==============================] - 0s 132us/step - loss: 6.5012 - mean_absolute_error: 1.7932\n",
      "Epoch 79/80\n",
      "404/404 [==============================] - 0s 128us/step - loss: 6.3873 - mean_absolute_error: 1.7510\n",
      "Epoch 80/80\n",
      "404/404 [==============================] - 0s 119us/step - loss: 6.3025 - mean_absolute_error: 1.7502\n",
      "102/102 [==============================] - 0s 2ms/step\n",
      "2.8483812668744255\n"
     ]
    }
   ],
   "source": [
    "model = build_model()\n",
    "model.fit(train_data, train_targets, epochs=80, batch_size=16)\n",
    "test_mse_score, test_mae_score = model.evaluate(test_data, test_targets)\n",
    "print(test_mae_score)"
   ]
  },
  {
   "cell_type": "code",
   "execution_count": 90,
   "metadata": {},
   "outputs": [
    {
     "name": "stdout",
     "output_type": "stream",
     "text": [
      "102/102 [==============================] - 0s 1ms/step\n",
      "2.7738957218095366\n"
     ]
    }
   ],
   "source": [
    "#加入静默模式\n",
    "model = build_model()\n",
    "model.fit(train_data, train_targets, epochs=80, batch_size=16, verbose=0)\n",
    "test_mse_score, test_mae_score = model.evaluate(test_data, test_targets)\n",
    "print(test_mae_score)"
   ]
  },
  {
   "cell_type": "markdown",
   "metadata": {},
   "source": [
    "## 预测的房价和实际价格相差约2774美元"
   ]
  },
  {
   "cell_type": "code",
   "execution_count": 92,
   "metadata": {},
   "outputs": [
    {
     "data": {
      "text/plain": [
       "array([[ 8.899015],\n",
       "       [19.27545 ],\n",
       "       [22.358284],\n",
       "       [31.104116],\n",
       "       [25.16299 ],\n",
       "       [20.584179],\n",
       "       [25.941074],\n",
       "       [21.734365],\n",
       "       [19.545227],\n",
       "       [22.44271 ]], dtype=float32)"
      ]
     },
     "execution_count": 92,
     "metadata": {},
     "output_type": "execute_result"
    }
   ],
   "source": [
    "model.predict(test_data[:10])"
   ]
  }
 ],
 "metadata": {
  "kernelspec": {
   "display_name": "Python 3",
   "language": "python",
   "name": "python3"
  },
  "language_info": {
   "codemirror_mode": {
    "name": "ipython",
    "version": 3
   },
   "file_extension": ".py",
   "mimetype": "text/x-python",
   "name": "python",
   "nbconvert_exporter": "python",
   "pygments_lexer": "ipython3",
   "version": "3.6.4"
  }
 },
 "nbformat": 4,
 "nbformat_minor": 2
}
