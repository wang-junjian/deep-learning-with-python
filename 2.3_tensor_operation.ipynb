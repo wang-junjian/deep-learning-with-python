{
 "cells": [
  {
   "cell_type": "markdown",
   "metadata": {},
   "source": [
    "# 张量运算"
   ]
  },
  {
   "cell_type": "code",
   "execution_count": 1,
   "metadata": {},
   "outputs": [],
   "source": [
    "import numpy as np"
   ]
  },
  {
   "cell_type": "markdown",
   "metadata": {},
   "source": [
    "## 逐元素运算"
   ]
  },
  {
   "cell_type": "code",
   "execution_count": 2,
   "metadata": {},
   "outputs": [
    {
     "name": "stdout",
     "output_type": "stream",
     "text": [
      "x =  [[ 1. -2.]\n",
      " [-3.  4.]]\n",
      "y =  [[-4.  5.]\n",
      " [ 6. -7.]]\n"
     ]
    }
   ],
   "source": [
    "x = np.array([[1.0,-2.0], [-3.0,4.0]])\n",
    "y = np.array([[-4.0,5.0], [6.0,-7.0]])\n",
    "\n",
    "print('x = ', x)\n",
    "print('y = ', y)"
   ]
  },
  {
   "cell_type": "markdown",
   "metadata": {},
   "source": [
    "### native_relu(np.array) == np.maximum(np.array, 0)"
   ]
  },
  {
   "cell_type": "code",
   "execution_count": 3,
   "metadata": {},
   "outputs": [
    {
     "name": "stdout",
     "output_type": "stream",
     "text": [
      "native_relu(x) =  [[1. 0.]\n",
      " [0. 4.]]\n"
     ]
    }
   ],
   "source": [
    "\"\"\"激活函数relu\"\"\"\n",
    "def native_relu(x):\n",
    "    assert len(x.shape) == 2\n",
    "    \n",
    "    n = x.copy()\n",
    "    for i in range(n.shape[0]):\n",
    "        for j in range(n.shape[1]):\n",
    "            n[i, j] = max(0, n[i, j])\n",
    "            \n",
    "    return n\n",
    "\n",
    "x_relu = native_relu(x)\n",
    "assert np.array_equal(x_relu, np.maximum(x, 0))\n",
    "print('native_relu(x) = ', x_relu)"
   ]
  },
  {
   "cell_type": "markdown",
   "metadata": {},
   "source": [
    "### native_add(np.array, np.array) == np.add(np.array, np.array) == np.array + np.array"
   ]
  },
  {
   "cell_type": "code",
   "execution_count": 4,
   "metadata": {},
   "outputs": [
    {
     "name": "stdout",
     "output_type": "stream",
     "text": [
      "native_add(x, y) =  [[-3.  3.]\n",
      " [ 3. -3.]]\n"
     ]
    }
   ],
   "source": [
    "\"\"\"矩阵加法\"\"\"\n",
    "def native_add(x, y):\n",
    "    assert len(x.shape) == 2\n",
    "    assert x.shape == y.shape\n",
    "    \n",
    "    n = x.copy()\n",
    "    for i in range(x.shape[0]):\n",
    "        for j in range(x.shape[1]):\n",
    "            n[i, j] = x[i, j] + y[i, j]\n",
    "            \n",
    "    return n\n",
    "\n",
    "n = native_add(x, y)\n",
    "assert np.array_equal(n, np.add(x, y))\n",
    "assert np.array_equal(n, x + y)\n",
    "print('native_add(x, y) = ', n)"
   ]
  },
  {
   "cell_type": "markdown",
   "metadata": {},
   "source": [
    "### native_subtract(np.array, np.array) == np.subtract(np.array, np.array) == np.array - np.array"
   ]
  },
  {
   "cell_type": "code",
   "execution_count": 5,
   "metadata": {},
   "outputs": [
    {
     "name": "stdout",
     "output_type": "stream",
     "text": [
      "native_subtract(x, y) =  [[ 5. -7.]\n",
      " [-9. 11.]]\n"
     ]
    }
   ],
   "source": [
    "\"\"\"矩阵减法\"\"\"\n",
    "def native_subtract(x, y):\n",
    "    assert len(x.shape) == 2\n",
    "    assert x.shape == y.shape\n",
    "    \n",
    "    n = x.copy()\n",
    "    for i in range(x.shape[0]):\n",
    "        for j in range(y.shape[1]):\n",
    "            n[i, j] = x[i, j] - y[i, j]\n",
    "            \n",
    "    return n\n",
    "\n",
    "n = native_subtract(x, y)\n",
    "assert np.array_equal(n, np.subtract(x, y))\n",
    "assert np.array_equal(n, x - y)\n",
    "print('native_subtract(x, y) = ', n)"
   ]
  },
  {
   "cell_type": "markdown",
   "metadata": {},
   "source": [
    "### native_multiply(np.array, np.array) == np.multiply(np.array, np.array) == np.array * np.array"
   ]
  },
  {
   "cell_type": "code",
   "execution_count": 6,
   "metadata": {},
   "outputs": [
    {
     "name": "stdout",
     "output_type": "stream",
     "text": [
      "native_multiply(x, y) =  [[ -4. -10.]\n",
      " [-18. -28.]]\n"
     ]
    }
   ],
   "source": [
    "\"\"\"矩阵乘法\"\"\"\n",
    "def native_multiply(x, y):\n",
    "    assert len(x.shape) == 2\n",
    "    assert x.shape == y.shape\n",
    "    \n",
    "    n = x.copy()\n",
    "    for i in range(x.shape[0]):\n",
    "        for j in range(y.shape[1]):\n",
    "            n[i, j] = x[i, j] * y[i, j]\n",
    "            \n",
    "    return n\n",
    "\n",
    "n = native_multiply(x, y)\n",
    "assert np.array_equal(n, np.multiply(x, y))\n",
    "assert np.array_equal(n, x * y)\n",
    "print('native_multiply(x, y) = ', n)"
   ]
  },
  {
   "cell_type": "markdown",
   "metadata": {},
   "source": [
    "### native_divide(np.array, np.array) == np.divide(np.array, np.array) == np.array / np.array"
   ]
  },
  {
   "cell_type": "code",
   "execution_count": 7,
   "metadata": {},
   "outputs": [
    {
     "name": "stdout",
     "output_type": "stream",
     "text": [
      "native_divide(x, y) =  [[-0.25       -0.4       ]\n",
      " [-0.5        -0.57142857]]\n"
     ]
    }
   ],
   "source": [
    "\"\"\"矩阵除法\"\"\"\n",
    "def native_divide(x, y):\n",
    "    assert len(x.shape) == 2\n",
    "    assert x.shape == y.shape\n",
    "    \n",
    "    n = x.copy()\n",
    "    for i in range(x.shape[0]):\n",
    "        for j in range(y.shape[1]):\n",
    "            n[i, j] = x[i, j] / y[i, j]\n",
    "            \n",
    "    return n\n",
    "\n",
    "n = native_divide(x, y)\n",
    "assert np.array_equal(n, np.divide(x, y))\n",
    "assert np.array_equal(n, x / y)\n",
    "print('native_divide(x, y) = ', n)"
   ]
  },
  {
   "cell_type": "markdown",
   "metadata": {},
   "source": [
    "## 张量点积 np.dot(np.array, np.array)"
   ]
  },
  {
   "cell_type": "code",
   "execution_count": 16,
   "metadata": {},
   "outputs": [
    {
     "name": "stdout",
     "output_type": "stream",
     "text": [
      "native_vertor_dot(x, y) =  32.0\n"
     ]
    }
   ],
   "source": [
    "\"\"\"向量点积，两个向量的元素个数要求相等，返回值是标量。\"\"\"\n",
    "def native_vertor_dot(x, y):\n",
    "    assert len(x.shape) == 1\n",
    "    assert len(y.shape) == 1\n",
    "    assert x.shape == y.shape\n",
    "    \n",
    "    z = 0.\n",
    "    for i in range(x.shape[0]):\n",
    "        z += x[i] * y[i]\n",
    "        \n",
    "    return z\n",
    "\n",
    "x = np.array([1, 2, 3])\n",
    "y = np.array([4, 5, 6])\n",
    "n = native_vertor_dot(x, y)\n",
    "assert np.array_equal(n, np.dot(x, y))\n",
    "print('native_vertor_dot(x, y) = ', n)"
   ]
  },
  {
   "cell_type": "code",
   "execution_count": 28,
   "metadata": {},
   "outputs": [
    {
     "name": "stdout",
     "output_type": "stream",
     "text": [
      "native_matrix_vector_dot(x, y) =  [14. 32.]\n"
     ]
    }
   ],
   "source": [
    "\"\"\"矩阵和向量的点积，矩阵的列数和向量的元素数相等，返回值是向量，元素数等于矩阵的行数。\"\"\"\n",
    "def native_matrix_vector_dot(x, y):\n",
    "    assert len(x.shape) == 2\n",
    "    assert len(y.shape) == 1\n",
    "    assert x.shape[1] == y.shape[0]\n",
    "    \n",
    "    z = np.zeros(x.shape[0])\n",
    "    for i in range(x.shape[0]):\n",
    "        z[i] = native_vertor_dot(x[i, :], y)\n",
    "        \n",
    "    return z\n",
    "\n",
    "x = np.array([[1, 2, 3], [4, 5, 6]])\n",
    "y = np.array([1, 2, 3])\n",
    "n = native_matrix_vector_dot(x, y)\n",
    "assert np.array_equal(n, np.dot(x, y))\n",
    "print('native_matrix_vector_dot(x, y) = ', n)"
   ]
  },
  {
   "cell_type": "code",
   "execution_count": 32,
   "metadata": {},
   "outputs": [
    {
     "name": "stdout",
     "output_type": "stream",
     "text": [
      "native_matrix_dot(x, y) =  [[22. 28.]\n",
      " [49. 64.]]\n"
     ]
    }
   ],
   "source": [
    "\"\"\"矩阵点积，第一个矩阵的列数等于第二个矩阵的行数，返回值是矩阵[第一个矩阵的行数，第二个矩阵的列数]。\"\"\"\n",
    "def native_matrix_dot(x, y):\n",
    "    assert len(x.shape) == 2\n",
    "    assert len(y.shape) == 2\n",
    "    assert x.shape[1] == y.shape[0]\n",
    "    \n",
    "    z = np.zeros((x.shape[0], y.shape[1]))\n",
    "    for i in range(x.shape[0]):\n",
    "        for j in range(y.shape[1]):\n",
    "            z[i, j] = native_vertor_dot(x[i, :], y[:, j])\n",
    "\n",
    "    return z\n",
    "\n",
    "x = np.array([[1, 2, 3], [4, 5, 6]])\n",
    "y = np.array([[1, 2], [3, 4], [5, 6]])\n",
    "n = native_matrix_dot(x, y)\n",
    "assert(np.array_equal(n, np.dot(x, y)))\n",
    "print('native_matrix_dot(x, y) = ', n)"
   ]
  },
  {
   "cell_type": "markdown",
   "metadata": {},
   "source": [
    "### 两个张量中有一个ndim大于1，dot运算就不再对称"
   ]
  },
  {
   "cell_type": "code",
   "execution_count": 51,
   "metadata": {},
   "outputs": [
    {
     "name": "stdout",
     "output_type": "stream",
     "text": [
      "(2, 2) (3, 3)\n"
     ]
    }
   ],
   "source": [
    "x = np.array([1, 2])\n",
    "y = np.array([3, 4])\n",
    "assert np.dot(x, y) == np.dot(y, x)\n",
    "\n",
    "x = np.array([[1, 2, 3], [4, 5, 6]])\n",
    "y = np.array([[1, 2], [3, 4], [5, 6]])\n",
    "assert not np.array_equal(np.dot(x, y), np.dot(y, x))\n",
    "print(np.dot(x, y).shape, np.dot(y, x).shape)"
   ]
  },
  {
   "cell_type": "markdown",
   "metadata": {},
   "source": [
    "## 张量变形"
   ]
  },
  {
   "cell_type": "code",
   "execution_count": 58,
   "metadata": {},
   "outputs": [
    {
     "name": "stdout",
     "output_type": "stream",
     "text": [
      "(2, 3)\n",
      "[[1 2 3]\n",
      " [4 5 6]]\n",
      "(6, 1)\n",
      "[[1]\n",
      " [2]\n",
      " [3]\n",
      " [4]\n",
      " [5]\n",
      " [6]]\n",
      "(3, 2)\n",
      "[[1 2]\n",
      " [3 4]\n",
      " [5 6]]\n",
      "(2, 3)\n",
      "[[1 3 5]\n",
      " [2 4 6]]\n"
     ]
    }
   ],
   "source": [
    "x = np.array([[1, 2, 3], [4, 5, 6]])\n",
    "print(x.shape)\n",
    "print(x)\n",
    "\n",
    "x = x.reshape(6, 1)\n",
    "print(x.shape)\n",
    "print(x)\n",
    "\n",
    "x = x.reshape(3, 2)\n",
    "print(x.shape)\n",
    "print(x)\n",
    "\n",
    "# 转置\n",
    "assert np.array_equal(x.T, np.transpose(x))\n",
    "x = x.T\n",
    "print(x.shape)\n",
    "print(x)"
   ]
  }
 ],
 "metadata": {
  "kernelspec": {
   "display_name": "Python 3",
   "language": "python",
   "name": "python3"
  },
  "language_info": {
   "codemirror_mode": {
    "name": "ipython",
    "version": 3
   },
   "file_extension": ".py",
   "mimetype": "text/x-python",
   "name": "python",
   "nbconvert_exporter": "python",
   "pygments_lexer": "ipython3",
   "version": "3.6.4"
  }
 },
 "nbformat": 4,
 "nbformat_minor": 2
}
