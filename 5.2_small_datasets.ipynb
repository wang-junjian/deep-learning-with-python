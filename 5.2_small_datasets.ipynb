{
 "cells": [
  {
   "cell_type": "markdown",
   "metadata": {},
   "source": [
    "# 在小型数据集上从头开始训练一个卷积神经网络\n",
    "\n",
    "数据集：[Dogs vs. Cats](https://www.kaggle.com/c/dogs-vs-cats)"
   ]
  },
  {
   "cell_type": "code",
   "execution_count": 3,
   "metadata": {},
   "outputs": [],
   "source": [
    "import os\n",
    "import shutil\n",
    "\n",
    "root_dir = '/Users/wjj/datasets/kaggle/dogsvscats'\n",
    "samples_dir = os.path.join(root_dir, 'train')\n",
    "\n",
    "mini_samples_dir = os.path.join(root_dir, 'mini_samples')\n",
    "\n",
    "train_dir = os.path.join(mini_samples_dir, 'train')\n",
    "train_cats_dir = os.path.join(train_dir, 'cats')\n",
    "train_dogs_dir = os.path.join(train_dir, 'dogs')\n",
    "\n",
    "validation_dir = os.path.join(mini_samples_dir, 'validation')\n",
    "validation_cats_dir = os.path.join(validation_dir, 'cats')\n",
    "validation_dogs_dir = os.path.join(validation_dir, 'dogs')\n",
    "\n",
    "test_dir = os.path.join(mini_samples_dir, 'test')\n",
    "test_cats_dir = os.path.join(test_dir, 'cats')\n",
    "test_dogs_dir = os.path.join(test_dir, 'dogs')\n",
    "\n",
    "## 删除目录\n",
    "if os.path.exists(mini_samples_dir):\n",
    "    shutil.rmtree(mini_samples_dir)\n",
    "\n",
    "## 创建目录\n",
    "dirs = [mini_samples_dir, \n",
    "        train_dir, train_cats_dir, train_dogs_dir, \n",
    "        validation_dir, validation_cats_dir, validation_dogs_dir,\n",
    "        test_dir, test_cats_dir, test_dogs_dir]\n",
    "for d in dirs:\n",
    "    os.mkdir(d)"
   ]
  },
  {
   "cell_type": "code",
   "execution_count": 4,
   "metadata": {},
   "outputs": [],
   "source": [
    "## 拷贝图片\n",
    "def copy_images(filename_format, begin_index, end_index, dest_dir, src_dir=samples_dir):\n",
    "    image_paths = (os.path.join(src_dir, filename_format.format(index)) for index in range(begin_index, end_index+1))\n",
    "    for image_path in image_paths:\n",
    "        shutil.copy(image_path, dest_dir)\n",
    "\n",
    "cat_filename_format = 'cat.{}.jpg'\n",
    "dog_filename_format = 'dog.{}.jpg'\n",
    "\n",
    "copy_images(cat_filename_format, 1, 1000, train_cats_dir)\n",
    "copy_images(dog_filename_format, 1, 1000, train_dogs_dir)\n",
    "copy_images(cat_filename_format, 1001, 1500, validation_cats_dir)\n",
    "copy_images(dog_filename_format, 1001, 1500, validation_dogs_dir)\n",
    "copy_images(cat_filename_format, 1501, 2000, test_cats_dir)\n",
    "copy_images(dog_filename_format, 1501, 2000, test_dogs_dir)"
   ]
  },
  {
   "cell_type": "code",
   "execution_count": 5,
   "metadata": {},
   "outputs": [
    {
     "name": "stderr",
     "output_type": "stream",
     "text": [
      "Using TensorFlow backend.\n"
     ]
    },
    {
     "name": "stdout",
     "output_type": "stream",
     "text": [
      "Found 2000 images belonging to 2 classes.\n",
      "Found 1000 images belonging to 2 classes.\n"
     ]
    }
   ],
   "source": [
    "from keras.preprocessing.image import ImageDataGenerator\n",
    "\n",
    "train_datagen = ImageDataGenerator(rescale=1.0/255)\n",
    "validation_datagen = ImageDataGenerator(rescale=1.0/255)\n",
    "\n",
    "train_generator = train_datagen.flow_from_directory(train_dir,\n",
    "                                                    target_size=(150, 150),\n",
    "                                                    batch_size=20,\n",
    "                                                    class_mode='binary')\n",
    "validation_generator = validation_datagen.flow_from_directory(validation_dir,\n",
    "                                                              target_size=(150, 150),\n",
    "                                                              batch_size=20,\n",
    "                                                              class_mode='binary')"
   ]
  },
  {
   "cell_type": "code",
   "execution_count": 14,
   "metadata": {},
   "outputs": [
    {
     "name": "stdout",
     "output_type": "stream",
     "text": [
      "data batch shape: (20, 150, 150, 3)\n",
      "labels batch shape: (20,)\n"
     ]
    }
   ],
   "source": [
    "data_batch, labels_batch = train_generator[0]\n",
    "print('data batch shape:', data_batch.shape)\n",
    "print('labels batch shape:', labels_batch.shape)"
   ]
  },
  {
   "cell_type": "code",
   "execution_count": 6,
   "metadata": {},
   "outputs": [
    {
     "name": "stdout",
     "output_type": "stream",
     "text": [
      "_________________________________________________________________\n",
      "Layer (type)                 Output Shape              Param #   \n",
      "=================================================================\n",
      "conv2d_1 (Conv2D)            (None, 148, 148, 32)      896       \n",
      "_________________________________________________________________\n",
      "max_pooling2d_1 (MaxPooling2 (None, 74, 74, 32)        0         \n",
      "_________________________________________________________________\n",
      "conv2d_2 (Conv2D)            (None, 72, 72, 64)        18496     \n",
      "_________________________________________________________________\n",
      "max_pooling2d_2 (MaxPooling2 (None, 36, 36, 64)        0         \n",
      "_________________________________________________________________\n",
      "conv2d_3 (Conv2D)            (None, 34, 34, 128)       73856     \n",
      "_________________________________________________________________\n",
      "max_pooling2d_3 (MaxPooling2 (None, 17, 17, 128)       0         \n",
      "_________________________________________________________________\n",
      "conv2d_4 (Conv2D)            (None, 15, 15, 128)       147584    \n",
      "_________________________________________________________________\n",
      "max_pooling2d_4 (MaxPooling2 (None, 7, 7, 128)         0         \n",
      "_________________________________________________________________\n",
      "flatten_1 (Flatten)          (None, 6272)              0         \n",
      "_________________________________________________________________\n",
      "dense_1 (Dense)              (None, 512)               3211776   \n",
      "_________________________________________________________________\n",
      "dense_2 (Dense)              (None, 1)                 513       \n",
      "=================================================================\n",
      "Total params: 3,453,121\n",
      "Trainable params: 3,453,121\n",
      "Non-trainable params: 0\n",
      "_________________________________________________________________\n"
     ]
    }
   ],
   "source": [
    "from keras import models\n",
    "from keras import layers\n",
    "\n",
    "model = models.Sequential()\n",
    "model.add(layers.Conv2D(32, (3, 3), activation='relu', input_shape=(150, 150, 3)))\n",
    "model.add(layers.MaxPooling2D((2, 2)))\n",
    "model.add(layers.Conv2D(64, (3, 3), activation='relu'))\n",
    "model.add(layers.MaxPooling2D((2, 2)))\n",
    "model.add(layers.Conv2D(128, (3, 3), activation='relu'))\n",
    "model.add(layers.MaxPooling2D((2, 2)))\n",
    "model.add(layers.Conv2D(128, (3, 3), activation='relu'))\n",
    "model.add(layers.MaxPooling2D((2, 2)))\n",
    "model.add(layers.Flatten())\n",
    "model.add(layers.Dense(512, activation='relu'))\n",
    "model.add(layers.Dense(1, activation='sigmoid'))\n",
    "\n",
    "model.summary()"
   ]
  },
  {
   "cell_type": "code",
   "execution_count": 7,
   "metadata": {},
   "outputs": [],
   "source": [
    "from keras import optimizers\n",
    "\n",
    "model.compile(loss='binary_crossentropy',\n",
    "              optimizer=optimizers.RMSprop(lr=1e-4),\n",
    "              metrics=['acc'])"
   ]
  },
  {
   "cell_type": "code",
   "execution_count": 8,
   "metadata": {},
   "outputs": [
    {
     "name": "stdout",
     "output_type": "stream",
     "text": [
      "Epoch 1/20\n",
      "100/100 [==============================] - 58s 585ms/step - loss: 0.6874 - acc: 0.5415 - val_loss: 0.6805 - val_acc: 0.5120\n",
      "Epoch 2/20\n",
      "100/100 [==============================] - 63s 635ms/step - loss: 0.6509 - acc: 0.6110 - val_loss: 0.6663 - val_acc: 0.5750\n",
      "Epoch 3/20\n",
      "100/100 [==============================] - 64s 636ms/step - loss: 0.6069 - acc: 0.6755 - val_loss: 0.6122 - val_acc: 0.6510\n",
      "Epoch 4/20\n",
      "100/100 [==============================] - 59s 588ms/step - loss: 0.5704 - acc: 0.7060 - val_loss: 0.5940 - val_acc: 0.6840\n",
      "Epoch 5/20\n",
      "100/100 [==============================] - 59s 591ms/step - loss: 0.5364 - acc: 0.7350 - val_loss: 0.6033 - val_acc: 0.6690\n",
      "Epoch 6/20\n",
      "100/100 [==============================] - 61s 611ms/step - loss: 0.5048 - acc: 0.7510 - val_loss: 0.6265 - val_acc: 0.6800\n",
      "Epoch 7/20\n",
      "100/100 [==============================] - 60s 602ms/step - loss: 0.4822 - acc: 0.7575 - val_loss: 0.5622 - val_acc: 0.7070\n",
      "Epoch 8/20\n",
      "100/100 [==============================] - 64s 644ms/step - loss: 0.4498 - acc: 0.7855 - val_loss: 0.6679 - val_acc: 0.6330\n",
      "Epoch 9/20\n",
      "100/100 [==============================] - 61s 608ms/step - loss: 0.4248 - acc: 0.8025 - val_loss: 0.5688 - val_acc: 0.7110\n",
      "Epoch 10/20\n",
      "100/100 [==============================] - 60s 598ms/step - loss: 0.3993 - acc: 0.8210 - val_loss: 0.5773 - val_acc: 0.7010\n",
      "Epoch 11/20\n",
      "100/100 [==============================] - 61s 613ms/step - loss: 0.3729 - acc: 0.8335 - val_loss: 0.6193 - val_acc: 0.6910\n",
      "Epoch 12/20\n",
      "100/100 [==============================] - 63s 635ms/step - loss: 0.3484 - acc: 0.8530 - val_loss: 0.5897 - val_acc: 0.7220\n",
      "Epoch 13/20\n",
      "100/100 [==============================] - 61s 606ms/step - loss: 0.3167 - acc: 0.8655 - val_loss: 0.5721 - val_acc: 0.7280\n",
      "Epoch 14/20\n",
      "100/100 [==============================] - 64s 641ms/step - loss: 0.2972 - acc: 0.8755 - val_loss: 0.6373 - val_acc: 0.7220\n",
      "Epoch 15/20\n",
      "100/100 [==============================] - 60s 595ms/step - loss: 0.2754 - acc: 0.8920 - val_loss: 0.6785 - val_acc: 0.6910\n",
      "Epoch 16/20\n",
      "100/100 [==============================] - 59s 595ms/step - loss: 0.2542 - acc: 0.8985 - val_loss: 0.6866 - val_acc: 0.7150\n",
      "Epoch 17/20\n",
      "100/100 [==============================] - 59s 593ms/step - loss: 0.2262 - acc: 0.9115 - val_loss: 0.7337 - val_acc: 0.7060\n",
      "Epoch 18/20\n",
      "100/100 [==============================] - 63s 628ms/step - loss: 0.2082 - acc: 0.9185 - val_loss: 0.6910 - val_acc: 0.7200\n",
      "Epoch 19/20\n",
      "100/100 [==============================] - 62s 623ms/step - loss: 0.1878 - acc: 0.9300 - val_loss: 0.7384 - val_acc: 0.7120\n",
      "Epoch 20/20\n",
      "100/100 [==============================] - 61s 608ms/step - loss: 0.1651 - acc: 0.9410 - val_loss: 0.7174 - val_acc: 0.7060\n"
     ]
    }
   ],
   "source": [
    "history = model.fit_generator(\n",
    "    train_generator,\n",
    "    steps_per_epoch=100,\n",
    "    epochs=20,\n",
    "    validation_data=validation_generator,\n",
    "    validation_steps=50)\n",
    "\n",
    "# model.save('cats_and_dogs_small_1.h5')"
   ]
  },
  {
   "cell_type": "code",
   "execution_count": 10,
   "metadata": {},
   "outputs": [
    {
     "data": {
      "image/png": "[encoded data removed]",
      "text/plain": [
       "<matplotlib.figure.Figure at 0x11736c390>"
      ]
     },
     "metadata": {},
     "output_type": "display_data"
    },
    {
     "data": {
      "image/png": "[encoded data removed]",
      "text/plain": [
       "<matplotlib.figure.Figure at 0x1173bb278>"
      ]
     },
     "metadata": {},
     "output_type": "display_data"
    }
   ],
   "source": [
    "import matplotlib.pyplot as plt\n",
    "\n",
    "def draw_history(history):\n",
    "    acc = history.history['acc']\n",
    "    val_acc = history.history['val_acc']\n",
    "    loss = history.history['loss']\n",
    "    val_loss = history.history['val_loss']\n",
    "\n",
    "    epochs = range(1, len(acc) + 1)\n",
    "    plt.plot(epochs, acc, 'bo', label='Training acc')\n",
    "    plt.plot(epochs, val_acc, 'b', label='Validation acc')\n",
    "    plt.title('Training and validation accuracy')\n",
    "    plt.legend()\n",
    "\n",
    "    plt.figure()\n",
    "\n",
    "    plt.plot(epochs, loss, 'bo', label='Training loss')\n",
    "    plt.plot(epochs, val_loss, 'b', label='Validation loss')\n",
    "    plt.title('Training and validation loss')\n",
    "    plt.legend()\n",
    "\n",
    "    plt.show()\n",
    "    \n",
    "draw_history(history)"
   ]
  },
  {
   "cell_type": "markdown",
   "metadata": {},
   "source": [
    "## 使用数据增强"
   ]
  },
  {
   "cell_type": "code",
   "execution_count": 11,
   "metadata": {},
   "outputs": [
    {
     "name": "stdout",
     "output_type": "stream",
     "text": [
      "_________________________________________________________________\n",
      "Layer (type)                 Output Shape              Param #   \n",
      "=================================================================\n",
      "conv2d_5 (Conv2D)            (None, 148, 148, 32)      896       \n",
      "_________________________________________________________________\n",
      "max_pooling2d_5 (MaxPooling2 (None, 74, 74, 32)        0         \n",
      "_________________________________________________________________\n",
      "conv2d_6 (Conv2D)            (None, 72, 72, 64)        18496     \n",
      "_________________________________________________________________\n",
      "max_pooling2d_6 (MaxPooling2 (None, 36, 36, 64)        0         \n",
      "_________________________________________________________________\n",
      "conv2d_7 (Conv2D)            (None, 34, 34, 128)       73856     \n",
      "_________________________________________________________________\n",
      "max_pooling2d_7 (MaxPooling2 (None, 17, 17, 128)       0         \n",
      "_________________________________________________________________\n",
      "conv2d_8 (Conv2D)            (None, 15, 15, 128)       147584    \n",
      "_________________________________________________________________\n",
      "max_pooling2d_8 (MaxPooling2 (None, 7, 7, 128)         0         \n",
      "_________________________________________________________________\n",
      "flatten_2 (Flatten)          (None, 6272)              0         \n",
      "_________________________________________________________________\n",
      "dropout_1 (Dropout)          (None, 6272)              0         \n",
      "_________________________________________________________________\n",
      "dense_3 (Dense)              (None, 512)               3211776   \n",
      "_________________________________________________________________\n",
      "dense_4 (Dense)              (None, 1)                 513       \n",
      "=================================================================\n",
      "Total params: 3,453,121\n",
      "Trainable params: 3,453,121\n",
      "Non-trainable params: 0\n",
      "_________________________________________________________________\n"
     ]
    }
   ],
   "source": [
    "model = models.Sequential()\n",
    "model.add(layers.Conv2D(32, (3, 3), activation='relu', input_shape=(150, 150, 3)))\n",
    "model.add(layers.MaxPooling2D((2, 2)))\n",
    "model.add(layers.Conv2D(64, (3, 3), activation='relu'))\n",
    "model.add(layers.MaxPooling2D((2, 2)))\n",
    "model.add(layers.Conv2D(128, (3, 3), activation='relu'))\n",
    "model.add(layers.MaxPooling2D((2, 2)))\n",
    "model.add(layers.Conv2D(128, (3, 3), activation='relu'))\n",
    "model.add(layers.MaxPooling2D((2, 2)))\n",
    "model.add(layers.Flatten())\n",
    "model.add(layers.Dropout(0.5))\n",
    "model.add(layers.Dense(512, activation='relu'))\n",
    "model.add(layers.Dense(1, activation='sigmoid'))\n",
    "\n",
    "model.summary()\n",
    "\n",
    "model.compile(loss='binary_crossentropy',\n",
    "              optimizer=optimizers.RMSprop(lr=1e-4),\n",
    "              metrics=['acc'])"
   ]
  },
  {
   "cell_type": "code",
   "execution_count": 12,
   "metadata": {},
   "outputs": [
    {
     "name": "stdout",
     "output_type": "stream",
     "text": [
      "Found 2000 images belonging to 2 classes.\n",
      "Found 1000 images belonging to 2 classes.\n",
      "Epoch 1/100\n",
      "100/100 [==============================] - 89s 887ms/step - loss: 0.6929 - acc: 0.5178 - val_loss: 0.6815 - val_acc: 0.5380\n",
      "Epoch 2/100\n",
      "100/100 [==============================] - 93s 933ms/step - loss: 0.6848 - acc: 0.5531 - val_loss: 0.6742 - val_acc: 0.5490\n",
      "Epoch 3/100\n",
      "100/100 [==============================] - 98s 975ms/step - loss: 0.6698 - acc: 0.5875 - val_loss: 0.6521 - val_acc: 0.6100\n",
      "Epoch 4/100\n",
      "100/100 [==============================] - 98s 976ms/step - loss: 0.6507 - acc: 0.6156 - val_loss: 0.6441 - val_acc: 0.6190\n",
      "Epoch 5/100\n",
      "100/100 [==============================] - 91s 910ms/step - loss: 0.6381 - acc: 0.6381 - val_loss: 0.6303 - val_acc: 0.6320\n",
      "Epoch 6/100\n",
      "100/100 [==============================] - 90s 897ms/step - loss: 0.6172 - acc: 0.6662 - val_loss: 0.5759 - val_acc: 0.7010\n",
      "Epoch 7/100\n",
      "100/100 [==============================] - 91s 907ms/step - loss: 0.6153 - acc: 0.6553 - val_loss: 0.5718 - val_acc: 0.7010\n",
      "Epoch 8/100\n",
      "100/100 [==============================] - 95s 954ms/step - loss: 0.5916 - acc: 0.6887 - val_loss: 0.5752 - val_acc: 0.6920\n",
      "Epoch 9/100\n",
      "100/100 [==============================] - 95s 953ms/step - loss: 0.5884 - acc: 0.6828 - val_loss: 0.6145 - val_acc: 0.6620\n",
      "Epoch 10/100\n",
      "100/100 [==============================] - 91s 908ms/step - loss: 0.5872 - acc: 0.6884 - val_loss: 0.5805 - val_acc: 0.7030\n",
      "Epoch 11/100\n",
      "100/100 [==============================] - 90s 897ms/step - loss: 0.5725 - acc: 0.7031 - val_loss: 0.5519 - val_acc: 0.7100\n",
      "Epoch 12/100\n",
      "100/100 [==============================] - 90s 898ms/step - loss: 0.5633 - acc: 0.7012 - val_loss: 0.5368 - val_acc: 0.7270\n",
      "Epoch 13/100\n",
      "100/100 [==============================] - 90s 900ms/step - loss: 0.5633 - acc: 0.7069 - val_loss: 0.5529 - val_acc: 0.7170\n",
      "Epoch 14/100\n",
      "100/100 [==============================] - 89s 892ms/step - loss: 0.5476 - acc: 0.7281 - val_loss: 0.5328 - val_acc: 0.7290\n",
      "Epoch 15/100\n",
      "100/100 [==============================] - 89s 891ms/step - loss: 0.5507 - acc: 0.7141 - val_loss: 0.5417 - val_acc: 0.7340\n",
      "Epoch 16/100\n",
      "100/100 [==============================] - 89s 890ms/step - loss: 0.5441 - acc: 0.7250 - val_loss: 0.5089 - val_acc: 0.7390\n",
      "Epoch 17/100\n",
      "100/100 [==============================] - 89s 886ms/step - loss: 0.5416 - acc: 0.7278 - val_loss: 0.4907 - val_acc: 0.7580\n",
      "Epoch 18/100\n",
      "100/100 [==============================] - 89s 893ms/step - loss: 0.5261 - acc: 0.7350 - val_loss: 0.5134 - val_acc: 0.7430\n",
      "Epoch 19/100\n",
      "100/100 [==============================] - 89s 893ms/step - loss: 0.5254 - acc: 0.7394 - val_loss: 0.5150 - val_acc: 0.7500\n",
      "Epoch 20/100\n",
      "100/100 [==============================] - 89s 891ms/step - loss: 0.5229 - acc: 0.7328 - val_loss: 0.4923 - val_acc: 0.7640\n",
      "Epoch 21/100\n",
      "100/100 [==============================] - 89s 887ms/step - loss: 0.5270 - acc: 0.7306 - val_loss: 0.5069 - val_acc: 0.7520\n",
      "Epoch 22/100\n",
      "100/100 [==============================] - 89s 887ms/step - loss: 0.5164 - acc: 0.7469 - val_loss: 0.4800 - val_acc: 0.7660\n",
      "Epoch 23/100\n",
      "100/100 [==============================] - 89s 891ms/step - loss: 0.5164 - acc: 0.7456 - val_loss: 0.4764 - val_acc: 0.7740\n",
      "Epoch 24/100\n",
      "100/100 [==============================] - 88s 883ms/step - loss: 0.5030 - acc: 0.7534 - val_loss: 0.4998 - val_acc: 0.7430\n",
      "Epoch 25/100\n",
      "100/100 [==============================] - 90s 896ms/step - loss: 0.5164 - acc: 0.7425 - val_loss: 0.4802 - val_acc: 0.7630\n",
      "Epoch 26/100\n",
      "100/100 [==============================] - 89s 887ms/step - loss: 0.4907 - acc: 0.7631 - val_loss: 0.4637 - val_acc: 0.7710\n",
      "Epoch 27/100\n",
      "100/100 [==============================] - 90s 896ms/step - loss: 0.4930 - acc: 0.7600 - val_loss: 0.4926 - val_acc: 0.7540\n",
      "Epoch 28/100\n",
      "100/100 [==============================] - 89s 890ms/step - loss: 0.5020 - acc: 0.7584 - val_loss: 0.5011 - val_acc: 0.7500\n",
      "Epoch 29/100\n",
      "100/100 [==============================] - 88s 877ms/step - loss: 0.4928 - acc: 0.7566 - val_loss: 0.5014 - val_acc: 0.7490\n",
      "Epoch 30/100\n",
      "100/100 [==============================] - 89s 890ms/step - loss: 0.4876 - acc: 0.7581 - val_loss: 0.4894 - val_acc: 0.7580\n",
      "Epoch 31/100\n",
      "100/100 [==============================] - 92s 923ms/step - loss: 0.4717 - acc: 0.7731 - val_loss: 0.4783 - val_acc: 0.7730\n",
      "Epoch 32/100\n",
      "100/100 [==============================] - 88s 880ms/step - loss: 0.4874 - acc: 0.7656 - val_loss: 0.4712 - val_acc: 0.7710\n",
      "Epoch 33/100\n",
      "100/100 [==============================] - 92s 922ms/step - loss: 0.4792 - acc: 0.7678 - val_loss: 0.4706 - val_acc: 0.7760\n",
      "Epoch 34/100\n",
      "100/100 [==============================] - 91s 911ms/step - loss: 0.4583 - acc: 0.7787 - val_loss: 0.4640 - val_acc: 0.7720\n",
      "Epoch 35/100\n",
      "100/100 [==============================] - 93s 934ms/step - loss: 0.4558 - acc: 0.7831 - val_loss: 0.6101 - val_acc: 0.6940\n",
      "Epoch 36/100\n",
      "100/100 [==============================] - 90s 899ms/step - loss: 0.4712 - acc: 0.7775 - val_loss: 0.4705 - val_acc: 0.7790\n",
      "Epoch 37/100\n",
      "100/100 [==============================] - 92s 918ms/step - loss: 0.4707 - acc: 0.7744 - val_loss: 0.4436 - val_acc: 0.7980\n",
      "Epoch 38/100\n",
      "100/100 [==============================] - 93s 930ms/step - loss: 0.4509 - acc: 0.7872 - val_loss: 0.4927 - val_acc: 0.7600\n",
      "Epoch 39/100\n",
      "100/100 [==============================] - 89s 893ms/step - loss: 0.4580 - acc: 0.7747 - val_loss: 0.4616 - val_acc: 0.7740\n",
      "Epoch 40/100\n",
      "100/100 [==============================] - 90s 899ms/step - loss: 0.4651 - acc: 0.7722 - val_loss: 0.4311 - val_acc: 0.7970\n",
      "Epoch 41/100\n",
      "100/100 [==============================] - 89s 891ms/step - loss: 0.4715 - acc: 0.7725 - val_loss: 0.4582 - val_acc: 0.7900\n",
      "Epoch 42/100\n",
      "100/100 [==============================] - 89s 894ms/step - loss: 0.4353 - acc: 0.7937 - val_loss: 0.4795 - val_acc: 0.7790\n",
      "Epoch 43/100\n",
      "100/100 [==============================] - 89s 892ms/step - loss: 0.4521 - acc: 0.7837 - val_loss: 0.5072 - val_acc: 0.7600\n",
      "Epoch 44/100\n",
      "100/100 [==============================] - 89s 889ms/step - loss: 0.4386 - acc: 0.7891 - val_loss: 0.4852 - val_acc: 0.7740\n",
      "Epoch 45/100\n",
      "100/100 [==============================] - 90s 896ms/step - loss: 0.4354 - acc: 0.7941 - val_loss: 0.4477 - val_acc: 0.7820\n",
      "Epoch 46/100\n",
      "100/100 [==============================] - 89s 889ms/step - loss: 0.4311 - acc: 0.8037 - val_loss: 0.4300 - val_acc: 0.7920\n",
      "Epoch 47/100\n",
      "100/100 [==============================] - 89s 890ms/step - loss: 0.4343 - acc: 0.7950 - val_loss: 0.4300 - val_acc: 0.8010\n",
      "Epoch 48/100\n",
      "100/100 [==============================] - 89s 891ms/step - loss: 0.4391 - acc: 0.7997 - val_loss: 0.4456 - val_acc: 0.7960\n",
      "Epoch 49/100\n",
      "100/100 [==============================] - 88s 881ms/step - loss: 0.4352 - acc: 0.7950 - val_loss: 0.4683 - val_acc: 0.7920\n",
      "Epoch 50/100\n",
      "100/100 [==============================] - 88s 883ms/step - loss: 0.4241 - acc: 0.8019 - val_loss: 0.4936 - val_acc: 0.7850\n",
      "Epoch 51/100\n",
      "100/100 [==============================] - 87s 872ms/step - loss: 0.4250 - acc: 0.8050 - val_loss: 0.5186 - val_acc: 0.7640\n",
      "Epoch 52/100\n",
      "100/100 [==============================] - 88s 882ms/step - loss: 0.4261 - acc: 0.8009 - val_loss: 0.4397 - val_acc: 0.8010\n",
      "Epoch 53/100\n",
      "100/100 [==============================] - 88s 877ms/step - loss: 0.4296 - acc: 0.8006 - val_loss: 0.4188 - val_acc: 0.8140\n",
      "Epoch 54/100\n",
      "100/100 [==============================] - 88s 881ms/step - loss: 0.4165 - acc: 0.8109 - val_loss: 0.4392 - val_acc: 0.7950\n",
      "Epoch 55/100\n",
      "100/100 [==============================] - 88s 877ms/step - loss: 0.4210 - acc: 0.8131 - val_loss: 0.4652 - val_acc: 0.7770\n",
      "Epoch 56/100\n",
      "100/100 [==============================] - 88s 880ms/step - loss: 0.4058 - acc: 0.8066 - val_loss: 0.4504 - val_acc: 0.8040\n",
      "Epoch 57/100\n",
      "100/100 [==============================] - 88s 882ms/step - loss: 0.4145 - acc: 0.8141 - val_loss: 0.4793 - val_acc: 0.7770\n",
      "Epoch 58/100\n",
      "100/100 [==============================] - 88s 881ms/step - loss: 0.4211 - acc: 0.8094 - val_loss: 0.4457 - val_acc: 0.8010\n",
      "Epoch 59/100\n",
      "100/100 [==============================] - 88s 879ms/step - loss: 0.4128 - acc: 0.8163 - val_loss: 0.4569 - val_acc: 0.7930\n",
      "Epoch 60/100\n"
     ]
    },
    {
     "name": "stdout",
     "output_type": "stream",
     "text": [
      "100/100 [==============================] - 88s 879ms/step - loss: 0.3957 - acc: 0.8244 - val_loss: 0.4644 - val_acc: 0.7970\n",
      "Epoch 61/100\n",
      "100/100 [==============================] - 88s 883ms/step - loss: 0.4031 - acc: 0.8147 - val_loss: 0.5339 - val_acc: 0.7580\n",
      "Epoch 62/100\n",
      "100/100 [==============================] - 88s 879ms/step - loss: 0.4048 - acc: 0.8141 - val_loss: 0.4232 - val_acc: 0.8060\n",
      "Epoch 63/100\n",
      "100/100 [==============================] - 88s 880ms/step - loss: 0.3972 - acc: 0.8225 - val_loss: 0.4476 - val_acc: 0.8000\n",
      "Epoch 64/100\n",
      "100/100 [==============================] - 88s 880ms/step - loss: 0.3833 - acc: 0.8350 - val_loss: 0.4457 - val_acc: 0.8020\n",
      "Epoch 65/100\n",
      "100/100 [==============================] - 88s 878ms/step - loss: 0.3921 - acc: 0.8219 - val_loss: 0.4305 - val_acc: 0.8160\n",
      "Epoch 66/100\n",
      "100/100 [==============================] - 89s 885ms/step - loss: 0.3952 - acc: 0.8169 - val_loss: 0.4442 - val_acc: 0.8200\n",
      "Epoch 67/100\n",
      "100/100 [==============================] - 88s 878ms/step - loss: 0.3935 - acc: 0.8184 - val_loss: 0.4189 - val_acc: 0.8220\n",
      "Epoch 68/100\n",
      "100/100 [==============================] - 87s 871ms/step - loss: 0.3979 - acc: 0.8172 - val_loss: 0.4200 - val_acc: 0.8180\n",
      "Epoch 69/100\n",
      "100/100 [==============================] - 88s 883ms/step - loss: 0.3795 - acc: 0.8325 - val_loss: 0.4232 - val_acc: 0.8000\n",
      "Epoch 70/100\n",
      "100/100 [==============================] - 88s 882ms/step - loss: 0.3869 - acc: 0.8250 - val_loss: 0.4202 - val_acc: 0.8120\n",
      "Epoch 71/100\n",
      "100/100 [==============================] - 88s 880ms/step - loss: 0.3784 - acc: 0.8272 - val_loss: 0.4285 - val_acc: 0.8190\n",
      "Epoch 72/100\n",
      "100/100 [==============================] - 88s 883ms/step - loss: 0.3676 - acc: 0.8391 - val_loss: 0.4429 - val_acc: 0.8120\n",
      "Epoch 73/100\n",
      "100/100 [==============================] - 88s 877ms/step - loss: 0.3874 - acc: 0.8297 - val_loss: 0.4010 - val_acc: 0.8280\n",
      "Epoch 74/100\n",
      "100/100 [==============================] - 88s 877ms/step - loss: 0.3613 - acc: 0.8431 - val_loss: 0.4039 - val_acc: 0.8240\n",
      "Epoch 75/100\n",
      "100/100 [==============================] - 88s 882ms/step - loss: 0.3730 - acc: 0.8269 - val_loss: 0.4132 - val_acc: 0.8260\n",
      "Epoch 76/100\n",
      "100/100 [==============================] - 88s 883ms/step - loss: 0.3771 - acc: 0.8275 - val_loss: 0.4594 - val_acc: 0.8040\n",
      "Epoch 77/100\n",
      "100/100 [==============================] - 88s 880ms/step - loss: 0.3824 - acc: 0.8384 - val_loss: 0.4525 - val_acc: 0.8060\n",
      "Epoch 78/100\n",
      "100/100 [==============================] - 88s 880ms/step - loss: 0.3637 - acc: 0.8359 - val_loss: 0.4644 - val_acc: 0.8030\n",
      "Epoch 79/100\n",
      "100/100 [==============================] - 88s 879ms/step - loss: 0.3698 - acc: 0.8341 - val_loss: 0.4148 - val_acc: 0.8250\n",
      "Epoch 80/100\n",
      "100/100 [==============================] - 88s 879ms/step - loss: 0.3639 - acc: 0.8341 - val_loss: 0.4272 - val_acc: 0.8190\n",
      "Epoch 81/100\n",
      "100/100 [==============================] - 88s 885ms/step - loss: 0.3637 - acc: 0.8469 - val_loss: 0.6215 - val_acc: 0.7600\n",
      "Epoch 82/100\n",
      "100/100 [==============================] - 88s 884ms/step - loss: 0.3630 - acc: 0.8391 - val_loss: 0.4785 - val_acc: 0.8120\n",
      "Epoch 83/100\n",
      "100/100 [==============================] - 88s 881ms/step - loss: 0.3661 - acc: 0.8378 - val_loss: 0.4278 - val_acc: 0.8220\n",
      "Epoch 84/100\n",
      "100/100 [==============================] - 88s 883ms/step - loss: 0.3487 - acc: 0.8434 - val_loss: 0.5414 - val_acc: 0.7980\n",
      "Epoch 85/100\n",
      "100/100 [==============================] - 88s 879ms/step - loss: 0.3543 - acc: 0.8419 - val_loss: 0.4946 - val_acc: 0.8220\n",
      "Epoch 86/100\n",
      "100/100 [==============================] - 88s 882ms/step - loss: 0.3650 - acc: 0.8356 - val_loss: 0.4405 - val_acc: 0.8210\n",
      "Epoch 87/100\n",
      "100/100 [==============================] - 88s 880ms/step - loss: 0.3516 - acc: 0.8472 - val_loss: 0.4230 - val_acc: 0.8200\n",
      "Epoch 88/100\n",
      "100/100 [==============================] - 89s 888ms/step - loss: 0.3544 - acc: 0.8459 - val_loss: 0.4077 - val_acc: 0.8290\n",
      "Epoch 89/100\n",
      "100/100 [==============================] - 89s 885ms/step - loss: 0.3635 - acc: 0.8369 - val_loss: 0.4332 - val_acc: 0.8220\n",
      "Epoch 90/100\n",
      "100/100 [==============================] - 90s 897ms/step - loss: 0.3463 - acc: 0.8559 - val_loss: 0.4309 - val_acc: 0.8170\n",
      "Epoch 91/100\n",
      "100/100 [==============================] - 94s 942ms/step - loss: 0.3379 - acc: 0.8562 - val_loss: 0.4117 - val_acc: 0.8310\n",
      "Epoch 92/100\n",
      "100/100 [==============================] - 93s 927ms/step - loss: 0.3428 - acc: 0.8553 - val_loss: 0.6839 - val_acc: 0.7330\n",
      "Epoch 93/100\n",
      "100/100 [==============================] - 93s 926ms/step - loss: 0.3366 - acc: 0.8484 - val_loss: 0.5140 - val_acc: 0.8080\n",
      "Epoch 94/100\n",
      "100/100 [==============================] - 92s 922ms/step - loss: 0.3377 - acc: 0.8519 - val_loss: 0.4376 - val_acc: 0.8250\n",
      "Epoch 95/100\n",
      "100/100 [==============================] - 94s 944ms/step - loss: 0.3454 - acc: 0.8406 - val_loss: 0.4317 - val_acc: 0.8300\n",
      "Epoch 96/100\n",
      "100/100 [==============================] - 92s 922ms/step - loss: 0.3530 - acc: 0.8366 - val_loss: 0.4294 - val_acc: 0.8150\n",
      "Epoch 97/100\n",
      "100/100 [==============================] - 92s 922ms/step - loss: 0.3354 - acc: 0.8497 - val_loss: 0.4909 - val_acc: 0.8120\n",
      "Epoch 98/100\n",
      "100/100 [==============================] - 95s 946ms/step - loss: 0.3445 - acc: 0.8513 - val_loss: 0.4556 - val_acc: 0.8100\n",
      "Epoch 99/100\n",
      "100/100 [==============================] - 94s 943ms/step - loss: 0.3237 - acc: 0.8553 - val_loss: 0.4321 - val_acc: 0.8190\n",
      "Epoch 100/100\n",
      "100/100 [==============================] - 97s 975ms/step - loss: 0.3317 - acc: 0.8575 - val_loss: 0.4835 - val_acc: 0.7940\n"
     ]
    }
   ],
   "source": [
    "train_datagen = ImageDataGenerator(\n",
    "    rescale=1.0/255,\n",
    "    rotation_range=40,\n",
    "    width_shift_range=0.2,\n",
    "    height_shift_range=0.2,\n",
    "    shear_range=0.2,\n",
    "    zoom_range=0.2,\n",
    "    horizontal_flip=True)\n",
    "\n",
    "validation_datagen = ImageDataGenerator(rescale=1.0/255)\n",
    "\n",
    "train_generator = train_datagen.flow_from_directory(\n",
    "    train_dir,\n",
    "    target_size=(150, 150),\n",
    "    batch_size=32,\n",
    "    class_mode='binary')\n",
    "\n",
    "validation_generator = validation_datagen.flow_from_directory(\n",
    "    validation_dir,\n",
    "    target_size=(150, 150),\n",
    "    batch_size=32,\n",
    "    class_mode='binary')\n",
    "\n",
    "history = model.fit_generator(\n",
    "    train_generator,\n",
    "    steps_per_epoch=100,\n",
    "    epochs=100,\n",
    "    validation_data=validation_generator,\n",
    "    validation_steps=50)\n",
    "\n",
    "# model.save('cats_and_dogs_small_2.h5')"
   ]
  },
  {
   "cell_type": "markdown",
   "metadata": {},
   "source": [
    "> 在我的MacBook Pro上花了2个半小时"
   ]
  },
  {
   "cell_type": "code",
   "execution_count": 13,
   "metadata": {},
   "outputs": [
    {
     "data": {
      "image/png": "[encoded data removed]",
      "text/plain": [
       "<matplotlib.figure.Figure at 0x10d6c50b8>"
      ]
     },
     "metadata": {},
     "output_type": "display_data"
    },
    {
     "data": {
      "image/png": "[encoded data removed]",
      "text/plain": [
       "<matplotlib.figure.Figure at 0x117ec4a20>"
      ]
     },
     "metadata": {},
     "output_type": "display_data"
    }
   ],
   "source": [
    "draw_history(history)"
   ]
  }
 ],
 "metadata": {
  "kernelspec": {
   "display_name": "Python 3",
   "language": "python",
   "name": "python3"
  },
  "language_info": {
   "codemirror_mode": {
    "name": "ipython",
    "version": 3
   },
   "file_extension": ".py",
   "mimetype": "text/x-python",
   "name": "python",
   "nbconvert_exporter": "python",
   "pygments_lexer": "ipython3",
   "version": "3.6.4"
  }
 },
 "nbformat": 4,
 "nbformat_minor": 2
}
